{
 "cells": [
  {
   "cell_type": "markdown",
   "metadata": {},
   "source": [
    "#### Ethan Coolidge | Wrangle and Analyze Data Visualizations | Udacity: Western Governors University\n",
    "##### Note: This article is in no way meant represent Twitter or to claim absolute knowledge authority We Rate Dogs.\n",
    "## What the Tweeter Bird Had to Say About Dogs\n",
    "### Introduction\n",
    "Data from social media accounts can be so much fun to explore. There is so much knowledge we can gain on what people enjoy, dislike, find funny, or even find the most important to keep up on; be it sports, cooking, celebrities or more.\n",
    "Today, we get some unique insights from the We Rate Dogs forum on the well-known social platform Twitter.\n",
    "Data:\n",
    "My master datafile is complied from three different sources and span a period just over a year and a half, from Nov 15, 2015 to Sep 1, 2017. The major source one is Twitters itself. The other two sources were created from twitter data to predict the dog breed, name, rating and other pertinent data from the images and text.\n",
    "### Insights\n",
    "#### Insight 1: \n",
    "**Golden and Labrador retrievers are the most common breads on the We Rate Dogs, with Chihuahuas and Welsh Corgis somewhere close behind**\n",
    "\n",
    "The breeds are predicted from there images and my data reflect the tree highest predictions. I queried the top ten breeds for each of the predictions.  Labrador retrievers always took first of second on the list, with Golden retrievers taking second or third. Retrievers must be really popular to tweet about.\n",
    "\n",
    "Following the retrievers, Chihuahuas show up in all three of my top five bread prediction list. They have to take third place.\n",
    "\n",
    "The Welsh Corgis where not so easy to detect. The prediction algorithm had them separated just by their two subreads, Pembroke and Cardigan, which named after major Welsh cities. A bit of Cynology for you. Because they are both Welsh Corgis, there marginal differences make it hard for a machine to predict which one is. I even found a found a large overlap where a dog was predicted as both subreads.  When I collectively count them as just Welsh Corgis, even though they have their differences, the number is much higher and come close to Chihuahuas.\n",
    "\n",
    "#### Insight 2:  \n",
    "**The highest retweet count and the highest favorite count are both for the same tweet. Also, the lowest retweet count and the lowest favorite count are both for the same tweet.**\n",
    "\n",
    "It is not logically surprising that the highest retweet also is the most favorite and the lowest retweet is the lead favorite, but I must say, I was not expecting that.\n",
    "\n",
    "#### Insight 3:\n",
    "**The most common rating is from 10/10 to 13/11, with 12/10 in the lead.**\n",
    "\n",
    "[Ratings Chart](rating_hist.jpg)\n",
    "\n",
    "The chart above clearly shows how the ratings centralize around ten to twelve.\n",
    "The highest favorite tweet is rated at 13/10 and the lowest is rated at 11/10, further showing the popular average for a rating on We Rate Dogs.\n",
    "\n",
    "### Conclusion\n",
    "I hope you enjoyed these insights from We Rate Dogs. Though the data represent dogs of the nation, it does give an idea of what kind of dogs seem to make tweet post, and how well they are though of.\n"
   ]
  }
 ],
 "metadata": {
  "kernelspec": {
   "display_name": "Python 3",
   "language": "python",
   "name": "python3"
  },
  "language_info": {
   "codemirror_mode": {
    "name": "ipython",
    "version": 3
   },
   "file_extension": ".py",
   "mimetype": "text/x-python",
   "name": "python",
   "nbconvert_exporter": "python",
   "pygments_lexer": "ipython3",
   "version": "3.8.5"
  }
 },
 "nbformat": 4,
 "nbformat_minor": 2
}
