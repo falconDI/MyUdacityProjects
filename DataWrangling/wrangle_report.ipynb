{
 "cells": [
  {
   "cell_type": "markdown",
   "metadata": {},
   "source": [
    "### Ethan Coolidge\n",
    "### Project Report: Wrangle and Analyze Data\n",
    "### Udacity: Western Governors University\n",
    "___\n",
    "#### Project\n",
    "The purpose of the project is to demonstrate competency in wrangling data from multiple sources, with multiple methods. The project data is derived from twitters We Rate Dogs forum. Three sources will be utilized. An internal CSV file, TSV file request from a server, and tweets called from Twitter’s API in JSON format to a text file.\n",
    "\n",
    "#### Gathering\n",
    "\n",
    "Gathering the data for the file upload and the request download were not difficult. Reading a file info a dataframe using `pandas.read_csv` method, and the `Request` module was not too difficult to grasp.\n",
    "Gathering the tweets was a bigger hassle. Twitter changed how account levels are defined last November, so I was having difficulty accessing the tweets. After extensive research, I finally located the advanced developer account that met my needs.\n",
    "My print statements for my tweet request and my error check code are not printed in a neat sequential manner because I wanted to reduce space and scrolling.\n",
    "\n",
    "#### Assessing\n",
    "\n",
    "My spreadsheet was extremely useful for my visual assessment. There was no way I could emerge myself in the data by just using Pandas `head()` method. I located many of my quality issues here, like the incorrect null format, and underscores in the breed predictions.\n",
    "Much of my programmatic assessment was lead by my visual assessment. I found quality issues that I could not fully fathom the extent of just with my eyes, so I wrote code that would help me.\n",
    "The reason I identified the tweet Id datatype as a quality issue is because is an identifier and not a numeric observation. Like zip codes, and other number Identifiers, tweet Ids are not used in calculation and are not changed for any reason, save that the data is incorrect.\n",
    "\n",
    "#### Cleaning\n",
    "\n",
    "Even though is generally suggested to clean the quality issues first, and then the tidiness issues next, some of my quality issues where address after the tidiness ones to reduce code.\n",
    "I addressed the incorrect null values just after melting the dog type columns into one column. This way I was only converting ‘None’ to `pd.nan` on two columns instead of five.\n",
    "For similar reasons, I waited to change the tweet id from integer to string datatype until after I had merged all the dataframes so that I was converting the datatype of only one column.\n",
    "\n",
    "When dropping rows from the image file, I decided that only the ones that *did not* predict a dog on all three tries where most likely not dogs. I there was even one prediction of being a dog, the tweet stayed. I did check one of the pictures that predicted false on being a dog all three times. Its highest prediction was a box turtle. I put the URL in a browser and I found an adorable picture of … a box turtle. Not a bad prediction!\n",
    "\n",
    "I ran into a problem when the `melt()` method on the dog type columns was creating duplicates. But they where not complete duplicates because one would have the dog type, and the other row would be null. So, the tweet IDs where duplicate. To resolve the issue, after the melt, I sorted the data by the `dog_type` column and coded the `drop_duplicates` method to keep the last duplicate, which contained the dog type.\n",
    "\n",
    "#### Final\n",
    "I identified more issues while in the cleaning process, but, for the sake I time, I left them. In a real worl process though, I would address those issues until I was satisfied that data was fit for me and my colleges to analyze on."
   ]
  },
  {
   "cell_type": "code",
   "execution_count": null,
   "metadata": {},
   "outputs": [],
   "source": []
  }
 ],
 "metadata": {
  "kernelspec": {
   "display_name": "Python 3",
   "language": "python",
   "name": "python3"
  },
  "language_info": {
   "codemirror_mode": {
    "name": "ipython",
    "version": 3
   },
   "file_extension": ".py",
   "mimetype": "text/x-python",
   "name": "python",
   "nbconvert_exporter": "python",
   "pygments_lexer": "ipython3",
   "version": "3.8.5"
  }
 },
 "nbformat": 4,
 "nbformat_minor": 2
}
