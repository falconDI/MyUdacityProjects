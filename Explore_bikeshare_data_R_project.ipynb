{
 "cells": [
  {
   "cell_type": "markdown",
   "metadata": {},
   "source": [
    "### Explore Bike Share Data\n",
    "\n",
    "For this project, your goal is to ask and answer three questions about the available bikeshare data from Washington, Chicago, and New York.  This notebook can be submitted directly through the workspace when you are confident in your results.\n",
    "\n",
    "You will be graded against the project [Rubric](https://review.udacity.com/#!/rubrics/2508/view) by a mentor after you have submitted.  To get you started, you can use the template below, but feel free to be creative in your solutions!"
   ]
  },
  {
   "cell_type": "code",
   "execution_count": 1,
   "metadata": {},
   "outputs": [],
   "source": [
    "# load data\n",
    "ny = read.csv('new-york-city.csv')\n",
    "wa = read.csv('washington.csv')\n",
    "chg = read.csv('chicago.csv')"
   ]
  },
  {
   "cell_type": "code",
   "execution_count": 2,
   "metadata": {},
   "outputs": [
    {
     "data": {
      "text/html": [
       "<table>\n",
       "<thead><tr><th scope=col>X</th><th scope=col>Start.Time</th><th scope=col>End.Time</th><th scope=col>Trip.Duration</th><th scope=col>Start.Station</th><th scope=col>End.Station</th><th scope=col>User.Type</th><th scope=col>Gender</th><th scope=col>Birth.Year</th></tr></thead>\n",
       "<tbody>\n",
       "\t<tr><td>5688089                                       </td><td>2017-06-11 14:55:05                           </td><td>2017-06-11 15:08:21                           </td><td> 795                                          </td><td>Suffolk St &amp; Stanton St                   </td><td>W Broadway &amp; Spring St                    </td><td>Subscriber                                    </td><td><span style=white-space:pre-wrap>Male  </span></td><td>1998                                          </td></tr>\n",
       "\t<tr><td>4096714                                                           </td><td>2017-05-11 15:30:11                                               </td><td>2017-05-11 15:41:43                                               </td><td> 692                                                              </td><td>Lexington Ave &amp; E 63 St                                       </td><td><span style=white-space:pre-wrap>1 Ave &amp; E 78 St       </span></td><td>Subscriber                                                        </td><td><span style=white-space:pre-wrap>Male  </span>                    </td><td>1981                                                              </td></tr>\n",
       "\t<tr><td>2173887                                                            </td><td>2017-03-29 13:26:26                                                </td><td>2017-03-29 13:48:31                                                </td><td>1325                                                               </td><td><span style=white-space:pre-wrap>1 Pl &amp; Clinton St      </span></td><td><span style=white-space:pre-wrap>Henry St &amp; Degraw St  </span> </td><td>Subscriber                                                         </td><td><span style=white-space:pre-wrap>Male  </span>                     </td><td>1987                                                               </td></tr>\n",
       "\t<tr><td>3945638                                                            </td><td>2017-05-08 19:47:18                                                </td><td>2017-05-08 19:59:01                                                </td><td> 703                                                               </td><td><span style=white-space:pre-wrap>Barrow St &amp; Hudson St  </span></td><td><span style=white-space:pre-wrap>W 20 St &amp; 8 Ave       </span> </td><td>Subscriber                                                         </td><td>Female                                                             </td><td>1986                                                               </td></tr>\n",
       "\t<tr><td>6208972                                                            </td><td>2017-06-21 07:49:16                                                </td><td>2017-06-21 07:54:46                                                </td><td> 329                                                               </td><td><span style=white-space:pre-wrap>1 Ave &amp; E 44 St        </span></td><td><span style=white-space:pre-wrap>E 53 St &amp; 3 Ave       </span> </td><td>Subscriber                                                         </td><td><span style=white-space:pre-wrap>Male  </span>                     </td><td>1992                                                               </td></tr>\n",
       "\t<tr><td>1285652                                                            </td><td>2017-02-22 18:55:24                                                </td><td>2017-02-22 19:12:03                                                </td><td> 998                                                               </td><td><span style=white-space:pre-wrap>State St &amp; Smith St    </span></td><td><span style=white-space:pre-wrap>Bond St &amp; Fulton St   </span> </td><td>Subscriber                                                         </td><td><span style=white-space:pre-wrap>Male  </span>                     </td><td>1986                                                               </td></tr>\n",
       "</tbody>\n",
       "</table>\n"
      ],
      "text/latex": [
       "\\begin{tabular}{r|lllllllll}\n",
       " X & Start.Time & End.Time & Trip.Duration & Start.Station & End.Station & User.Type & Gender & Birth.Year\\\\\n",
       "\\hline\n",
       "\t 5688089                   & 2017-06-11 14:55:05       & 2017-06-11 15:08:21       &  795                      & Suffolk St \\& Stanton St & W Broadway \\& Spring St  & Subscriber                & Male                      & 1998                     \\\\\n",
       "\t 4096714                   & 2017-05-11 15:30:11       & 2017-05-11 15:41:43       &  692                      & Lexington Ave \\& E 63 St & 1 Ave \\& E 78 St         & Subscriber                & Male                      & 1981                     \\\\\n",
       "\t 2173887                   & 2017-03-29 13:26:26       & 2017-03-29 13:48:31       & 1325                      & 1 Pl \\& Clinton St       & Henry St \\& Degraw St    & Subscriber                & Male                      & 1987                     \\\\\n",
       "\t 3945638                   & 2017-05-08 19:47:18       & 2017-05-08 19:59:01       &  703                      & Barrow St \\& Hudson St   & W 20 St \\& 8 Ave         & Subscriber                & Female                    & 1986                     \\\\\n",
       "\t 6208972                   & 2017-06-21 07:49:16       & 2017-06-21 07:54:46       &  329                      & 1 Ave \\& E 44 St         & E 53 St \\& 3 Ave         & Subscriber                & Male                      & 1992                     \\\\\n",
       "\t 1285652                   & 2017-02-22 18:55:24       & 2017-02-22 19:12:03       &  998                      & State St \\& Smith St     & Bond St \\& Fulton St     & Subscriber                & Male                      & 1986                     \\\\\n",
       "\\end{tabular}\n"
      ],
      "text/markdown": [
       "\n",
       "| X | Start.Time | End.Time | Trip.Duration | Start.Station | End.Station | User.Type | Gender | Birth.Year |\n",
       "|---|---|---|---|---|---|---|---|---|\n",
       "| 5688089                 | 2017-06-11 14:55:05     | 2017-06-11 15:08:21     |  795                    | Suffolk St & Stanton St | W Broadway & Spring St  | Subscriber              | Male                    | 1998                    |\n",
       "| 4096714                 | 2017-05-11 15:30:11     | 2017-05-11 15:41:43     |  692                    | Lexington Ave & E 63 St | 1 Ave & E 78 St         | Subscriber              | Male                    | 1981                    |\n",
       "| 2173887                 | 2017-03-29 13:26:26     | 2017-03-29 13:48:31     | 1325                    | 1 Pl & Clinton St       | Henry St & Degraw St    | Subscriber              | Male                    | 1987                    |\n",
       "| 3945638                 | 2017-05-08 19:47:18     | 2017-05-08 19:59:01     |  703                    | Barrow St & Hudson St   | W 20 St & 8 Ave         | Subscriber              | Female                  | 1986                    |\n",
       "| 6208972                 | 2017-06-21 07:49:16     | 2017-06-21 07:54:46     |  329                    | 1 Ave & E 44 St         | E 53 St & 3 Ave         | Subscriber              | Male                    | 1992                    |\n",
       "| 1285652                 | 2017-02-22 18:55:24     | 2017-02-22 19:12:03     |  998                    | State St & Smith St     | Bond St & Fulton St     | Subscriber              | Male                    | 1986                    |\n",
       "\n"
      ],
      "text/plain": [
       "  X       Start.Time          End.Time            Trip.Duration\n",
       "1 5688089 2017-06-11 14:55:05 2017-06-11 15:08:21  795         \n",
       "2 4096714 2017-05-11 15:30:11 2017-05-11 15:41:43  692         \n",
       "3 2173887 2017-03-29 13:26:26 2017-03-29 13:48:31 1325         \n",
       "4 3945638 2017-05-08 19:47:18 2017-05-08 19:59:01  703         \n",
       "5 6208972 2017-06-21 07:49:16 2017-06-21 07:54:46  329         \n",
       "6 1285652 2017-02-22 18:55:24 2017-02-22 19:12:03  998         \n",
       "  Start.Station           End.Station            User.Type  Gender Birth.Year\n",
       "1 Suffolk St & Stanton St W Broadway & Spring St Subscriber Male   1998      \n",
       "2 Lexington Ave & E 63 St 1 Ave & E 78 St        Subscriber Male   1981      \n",
       "3 1 Pl & Clinton St       Henry St & Degraw St   Subscriber Male   1987      \n",
       "4 Barrow St & Hudson St   W 20 St & 8 Ave        Subscriber Female 1986      \n",
       "5 1 Ave & E 44 St         E 53 St & 3 Ave        Subscriber Male   1992      \n",
       "6 State St & Smith St     Bond St & Fulton St    Subscriber Male   1986      "
      ]
     },
     "metadata": {},
     "output_type": "display_data"
    }
   ],
   "source": [
    "# display new york data\n",
    "head(ny)"
   ]
  },
  {
   "cell_type": "code",
   "execution_count": 3,
   "metadata": {},
   "outputs": [
    {
     "data": {
      "text/html": [
       "<table>\n",
       "<thead><tr><th scope=col>X</th><th scope=col>Start.Time</th><th scope=col>End.Time</th><th scope=col>Trip.Duration</th><th scope=col>Start.Station</th><th scope=col>End.Station</th><th scope=col>User.Type</th></tr></thead>\n",
       "<tbody>\n",
       "\t<tr><td>1621326                                                                                        </td><td>2017-06-21 08:36:34                                                                            </td><td>2017-06-21 08:44:43                                                                            </td><td> 489.066                                                                                       </td><td><span style=white-space:pre-wrap>14th &amp; Belmont St NW                       </span>        </td><td><span style=white-space:pre-wrap>15th &amp; K St NW                                     </span></td><td>Subscriber                                                                                     </td></tr>\n",
       "\t<tr><td> 482740                                                                                        </td><td>2017-03-11 10:40:00                                                                            </td><td>2017-03-11 10:46:00                                                                            </td><td> 402.549                                                                                       </td><td><span style=white-space:pre-wrap>Yuma St &amp; Tenley Circle NW                 </span>        </td><td><span style=white-space:pre-wrap>Connecticut Ave &amp; Yuma St NW                       </span></td><td>Subscriber                                                                                     </td></tr>\n",
       "\t<tr><td>1330037                                                                                        </td><td>2017-05-30 01:02:59                                                                            </td><td>2017-05-30 01:13:37                                                                            </td><td> 637.251                                                                                       </td><td><span style=white-space:pre-wrap>17th St &amp; Massachusetts Ave NW             </span>        </td><td><span style=white-space:pre-wrap>5th &amp; K St NW                                      </span></td><td>Subscriber                                                                                     </td></tr>\n",
       "\t<tr><td> 665458                                                                                        </td><td>2017-04-02 07:48:35                                                                            </td><td>2017-04-02 08:19:03                                                                            </td><td>1827.341                                                                                       </td><td><span style=white-space:pre-wrap>Constitution Ave &amp; 2nd St NW/DOL           </span>        </td><td><span style=white-space:pre-wrap>M St &amp; Pennsylvania Ave NW                         </span></td><td><span style=white-space:pre-wrap>Customer  </span>                                             </td></tr>\n",
       "\t<tr><td>1481135                                                                                        </td><td>2017-06-10 08:36:28                                                                            </td><td>2017-06-10 09:02:17                                                                            </td><td>1549.427                                                                                       </td><td>Henry Bacon Dr &amp; Lincoln Memorial Circle NW                                                </td><td><span style=white-space:pre-wrap>Maine Ave &amp; 7th St SW                              </span></td><td>Subscriber                                                                                     </td></tr>\n",
       "\t<tr><td>1148202                                                                                </td><td>2017-05-14 07:18:18                                                                    </td><td>2017-05-14 07:24:56                                                                    </td><td> 398.000                                                                               </td><td><span style=white-space:pre-wrap>1st &amp; K St SE                              </span></td><td>Eastern Market Metro / Pennsylvania Ave &amp; 7th St SE                                </td><td>Subscriber                                                                             </td></tr>\n",
       "</tbody>\n",
       "</table>\n"
      ],
      "text/latex": [
       "\\begin{tabular}{r|lllllll}\n",
       " X & Start.Time & End.Time & Trip.Duration & Start.Station & End.Station & User.Type\\\\\n",
       "\\hline\n",
       "\t 1621326                                               & 2017-06-21 08:36:34                                   & 2017-06-21 08:44:43                                   &  489.066                                              & 14th \\& Belmont St NW                                & 15th \\& K St NW                                      & Subscriber                                           \\\\\n",
       "\t  482740                                               & 2017-03-11 10:40:00                                   & 2017-03-11 10:46:00                                   &  402.549                                              & Yuma St \\& Tenley Circle NW                          & Connecticut Ave \\& Yuma St NW                        & Subscriber                                           \\\\\n",
       "\t 1330037                                               & 2017-05-30 01:02:59                                   & 2017-05-30 01:13:37                                   &  637.251                                              & 17th St \\& Massachusetts Ave NW                      & 5th \\& K St NW                                       & Subscriber                                           \\\\\n",
       "\t  665458                                               & 2017-04-02 07:48:35                                   & 2017-04-02 08:19:03                                   & 1827.341                                              & Constitution Ave \\& 2nd St NW/DOL                    & M St \\& Pennsylvania Ave NW                          & Customer                                             \\\\\n",
       "\t 1481135                                               & 2017-06-10 08:36:28                                   & 2017-06-10 09:02:17                                   & 1549.427                                              & Henry Bacon Dr \\& Lincoln Memorial Circle NW         & Maine Ave \\& 7th St SW                               & Subscriber                                           \\\\\n",
       "\t 1148202                                               & 2017-05-14 07:18:18                                   & 2017-05-14 07:24:56                                   &  398.000                                              & 1st \\& K St SE                                       & Eastern Market Metro / Pennsylvania Ave \\& 7th St SE & Subscriber                                           \\\\\n",
       "\\end{tabular}\n"
      ],
      "text/markdown": [
       "\n",
       "| X | Start.Time | End.Time | Trip.Duration | Start.Station | End.Station | User.Type |\n",
       "|---|---|---|---|---|---|---|\n",
       "| 1621326                                             | 2017-06-21 08:36:34                                 | 2017-06-21 08:44:43                                 |  489.066                                            | 14th & Belmont St NW                                | 15th & K St NW                                      | Subscriber                                          |\n",
       "|  482740                                             | 2017-03-11 10:40:00                                 | 2017-03-11 10:46:00                                 |  402.549                                            | Yuma St & Tenley Circle NW                          | Connecticut Ave & Yuma St NW                        | Subscriber                                          |\n",
       "| 1330037                                             | 2017-05-30 01:02:59                                 | 2017-05-30 01:13:37                                 |  637.251                                            | 17th St & Massachusetts Ave NW                      | 5th & K St NW                                       | Subscriber                                          |\n",
       "|  665458                                             | 2017-04-02 07:48:35                                 | 2017-04-02 08:19:03                                 | 1827.341                                            | Constitution Ave & 2nd St NW/DOL                    | M St & Pennsylvania Ave NW                          | Customer                                            |\n",
       "| 1481135                                             | 2017-06-10 08:36:28                                 | 2017-06-10 09:02:17                                 | 1549.427                                            | Henry Bacon Dr & Lincoln Memorial Circle NW         | Maine Ave & 7th St SW                               | Subscriber                                          |\n",
       "| 1148202                                             | 2017-05-14 07:18:18                                 | 2017-05-14 07:24:56                                 |  398.000                                            | 1st & K St SE                                       | Eastern Market Metro / Pennsylvania Ave & 7th St SE | Subscriber                                          |\n",
       "\n"
      ],
      "text/plain": [
       "  X       Start.Time          End.Time            Trip.Duration\n",
       "1 1621326 2017-06-21 08:36:34 2017-06-21 08:44:43  489.066     \n",
       "2  482740 2017-03-11 10:40:00 2017-03-11 10:46:00  402.549     \n",
       "3 1330037 2017-05-30 01:02:59 2017-05-30 01:13:37  637.251     \n",
       "4  665458 2017-04-02 07:48:35 2017-04-02 08:19:03 1827.341     \n",
       "5 1481135 2017-06-10 08:36:28 2017-06-10 09:02:17 1549.427     \n",
       "6 1148202 2017-05-14 07:18:18 2017-05-14 07:24:56  398.000     \n",
       "  Start.Station                              \n",
       "1 14th & Belmont St NW                       \n",
       "2 Yuma St & Tenley Circle NW                 \n",
       "3 17th St & Massachusetts Ave NW             \n",
       "4 Constitution Ave & 2nd St NW/DOL           \n",
       "5 Henry Bacon Dr & Lincoln Memorial Circle NW\n",
       "6 1st & K St SE                              \n",
       "  End.Station                                         User.Type \n",
       "1 15th & K St NW                                      Subscriber\n",
       "2 Connecticut Ave & Yuma St NW                        Subscriber\n",
       "3 5th & K St NW                                       Subscriber\n",
       "4 M St & Pennsylvania Ave NW                          Customer  \n",
       "5 Maine Ave & 7th St SW                               Subscriber\n",
       "6 Eastern Market Metro / Pennsylvania Ave & 7th St SE Subscriber"
      ]
     },
     "metadata": {},
     "output_type": "display_data"
    }
   ],
   "source": [
    "# display washington data\n",
    "head(wa)"
   ]
  },
  {
   "cell_type": "code",
   "execution_count": 4,
   "metadata": {},
   "outputs": [
    {
     "data": {
      "text/html": [
       "<table>\n",
       "<thead><tr><th scope=col>X</th><th scope=col>Start.Time</th><th scope=col>End.Time</th><th scope=col>Trip.Duration</th><th scope=col>Start.Station</th><th scope=col>End.Station</th><th scope=col>User.Type</th><th scope=col>Gender</th><th scope=col>Birth.Year</th></tr></thead>\n",
       "<tbody>\n",
       "\t<tr><td>1423854                                                                  </td><td>2017-06-23 15:09:32                                                      </td><td>2017-06-23 15:14:53                                                      </td><td> 321                                                                     </td><td><span style=white-space:pre-wrap>Wood St &amp; Hubbard St         </span></td><td><span style=white-space:pre-wrap>Damen Ave &amp; Chicago Ave     </span> </td><td>Subscriber                                                               </td><td><span style=white-space:pre-wrap>Male  </span>                           </td><td>1992                                                                     </td></tr>\n",
       "\t<tr><td> 955915                                                              </td><td>2017-05-25 18:19:03                                                  </td><td>2017-05-25 18:45:53                                                  </td><td>1610                                                                 </td><td><span style=white-space:pre-wrap>Theater on the Lake          </span></td><td>Sheffield Ave &amp; Waveland Ave                                     </td><td>Subscriber                                                           </td><td>Female                                                               </td><td>1992                                                                 </td></tr>\n",
       "\t<tr><td><span style=white-space:pre-wrap>   9031</span>                          </td><td>2017-01-04 08:27:49                                                      </td><td>2017-01-04 08:34:45                                                      </td><td> 416                                                                     </td><td><span style=white-space:pre-wrap>May St &amp; Taylor St           </span></td><td><span style=white-space:pre-wrap>Wood St &amp; Taylor St         </span> </td><td>Subscriber                                                               </td><td><span style=white-space:pre-wrap>Male  </span>                           </td><td>1981                                                                     </td></tr>\n",
       "\t<tr><td> 304487                                       </td><td>2017-03-06 13:49:38                           </td><td>2017-03-06 13:55:28                           </td><td> 350                                          </td><td>Christiana Ave &amp; Lawrence Ave             </td><td>St. Louis Ave &amp; Balmoral Ave              </td><td>Subscriber                                    </td><td><span style=white-space:pre-wrap>Male  </span></td><td>1986                                          </td></tr>\n",
       "\t<tr><td><span style=white-space:pre-wrap>  45207</span>                          </td><td>2017-01-17 14:53:07                                                      </td><td>2017-01-17 15:02:01                                                      </td><td> 534                                                                     </td><td><span style=white-space:pre-wrap>Clark St &amp; Randolph St       </span></td><td>Desplaines St &amp; Jackson Blvd                                         </td><td>Subscriber                                                               </td><td><span style=white-space:pre-wrap>Male  </span>                           </td><td>1975                                                                     </td></tr>\n",
       "\t<tr><td>1473887                                                                 </td><td>2017-06-26 09:01:20                                                     </td><td>2017-06-26 09:11:06                                                     </td><td> 586                                                                    </td><td>Clinton St &amp; Washington Blvd                                        </td><td><span style=white-space:pre-wrap>Canal St &amp; Taylor St        </span></td><td>Subscriber                                                              </td><td><span style=white-space:pre-wrap>Male  </span>                          </td><td>1990                                                                    </td></tr>\n",
       "</tbody>\n",
       "</table>\n"
      ],
      "text/latex": [
       "\\begin{tabular}{r|lllllllll}\n",
       " X & Start.Time & End.Time & Trip.Duration & Start.Station & End.Station & User.Type & Gender & Birth.Year\\\\\n",
       "\\hline\n",
       "\t 1423854                         & 2017-06-23 15:09:32             & 2017-06-23 15:14:53             &  321                            & Wood St \\& Hubbard St          & Damen Ave \\& Chicago Ave       & Subscriber                      & Male                            & 1992                           \\\\\n",
       "\t  955915                        & 2017-05-25 18:19:03            & 2017-05-25 18:45:53            & 1610                           & Theater on the Lake            & Sheffield Ave \\& Waveland Ave & Subscriber                     & Female                         & 1992                          \\\\\n",
       "\t    9031                         & 2017-01-04 08:27:49             & 2017-01-04 08:34:45             &  416                            & May St \\& Taylor St            & Wood St \\& Taylor St           & Subscriber                      & Male                            & 1981                           \\\\\n",
       "\t  304487                         & 2017-03-06 13:49:38             & 2017-03-06 13:55:28             &  350                            & Christiana Ave \\& Lawrence Ave & St. Louis Ave \\& Balmoral Ave  & Subscriber                      & Male                            & 1986                           \\\\\n",
       "\t   45207                         & 2017-01-17 14:53:07             & 2017-01-17 15:02:01             &  534                            & Clark St \\& Randolph St        & Desplaines St \\& Jackson Blvd  & Subscriber                      & Male                            & 1975                           \\\\\n",
       "\t 1473887                         & 2017-06-26 09:01:20             & 2017-06-26 09:11:06             &  586                            & Clinton St \\& Washington Blvd  & Canal St \\& Taylor St          & Subscriber                      & Male                            & 1990                           \\\\\n",
       "\\end{tabular}\n"
      ],
      "text/markdown": [
       "\n",
       "| X | Start.Time | End.Time | Trip.Duration | Start.Station | End.Station | User.Type | Gender | Birth.Year |\n",
       "|---|---|---|---|---|---|---|---|---|\n",
       "| 1423854                       | 2017-06-23 15:09:32           | 2017-06-23 15:14:53           |  321                          | Wood St & Hubbard St          | Damen Ave & Chicago Ave       | Subscriber                    | Male                          | 1992                          |\n",
       "|  955915                       | 2017-05-25 18:19:03           | 2017-05-25 18:45:53           | 1610                          | Theater on the Lake           | Sheffield Ave & Waveland Ave  | Subscriber                    | Female                        | 1992                          |\n",
       "|    9031                       | 2017-01-04 08:27:49           | 2017-01-04 08:34:45           |  416                          | May St & Taylor St            | Wood St & Taylor St           | Subscriber                    | Male                          | 1981                          |\n",
       "|  304487                       | 2017-03-06 13:49:38           | 2017-03-06 13:55:28           |  350                          | Christiana Ave & Lawrence Ave | St. Louis Ave & Balmoral Ave  | Subscriber                    | Male                          | 1986                          |\n",
       "|   45207                       | 2017-01-17 14:53:07           | 2017-01-17 15:02:01           |  534                          | Clark St & Randolph St        | Desplaines St & Jackson Blvd  | Subscriber                    | Male                          | 1975                          |\n",
       "| 1473887                       | 2017-06-26 09:01:20           | 2017-06-26 09:11:06           |  586                          | Clinton St & Washington Blvd  | Canal St & Taylor St          | Subscriber                    | Male                          | 1990                          |\n",
       "\n"
      ],
      "text/plain": [
       "  X       Start.Time          End.Time            Trip.Duration\n",
       "1 1423854 2017-06-23 15:09:32 2017-06-23 15:14:53  321         \n",
       "2  955915 2017-05-25 18:19:03 2017-05-25 18:45:53 1610         \n",
       "3    9031 2017-01-04 08:27:49 2017-01-04 08:34:45  416         \n",
       "4  304487 2017-03-06 13:49:38 2017-03-06 13:55:28  350         \n",
       "5   45207 2017-01-17 14:53:07 2017-01-17 15:02:01  534         \n",
       "6 1473887 2017-06-26 09:01:20 2017-06-26 09:11:06  586         \n",
       "  Start.Station                 End.Station                  User.Type  Gender\n",
       "1 Wood St & Hubbard St          Damen Ave & Chicago Ave      Subscriber Male  \n",
       "2 Theater on the Lake           Sheffield Ave & Waveland Ave Subscriber Female\n",
       "3 May St & Taylor St            Wood St & Taylor St          Subscriber Male  \n",
       "4 Christiana Ave & Lawrence Ave St. Louis Ave & Balmoral Ave Subscriber Male  \n",
       "5 Clark St & Randolph St        Desplaines St & Jackson Blvd Subscriber Male  \n",
       "6 Clinton St & Washington Blvd  Canal St & Taylor St         Subscriber Male  \n",
       "  Birth.Year\n",
       "1 1992      \n",
       "2 1992      \n",
       "3 1981      \n",
       "4 1986      \n",
       "5 1975      \n",
       "6 1990      "
      ]
     },
     "metadata": {},
     "output_type": "display_data"
    }
   ],
   "source": [
    "# display chicago data\n",
    "head(chg)"
   ]
  },
  {
   "cell_type": "code",
   "execution_count": 5,
   "metadata": {},
   "outputs": [
    {
     "name": "stderr",
     "output_type": "stream",
     "text": [
      "Registered S3 methods overwritten by 'ggplot2':\n",
      "  method         from \n",
      "  [.quosures     rlang\n",
      "  c.quosures     rlang\n",
      "  print.quosures rlang\n"
     ]
    }
   ],
   "source": [
    "# load ggplot module\n",
    "library(ggplot2)"
   ]
  },
  {
   "cell_type": "markdown",
   "metadata": {},
   "source": [
    "### Question 1\n",
    "\n",
    "\n",
    "**Does trip duration go up as the months grow warmer?**"
   ]
  },
  {
   "cell_type": "code",
   "execution_count": 6,
   "metadata": {},
   "outputs": [],
   "source": [
    "# extract the month from the Start.Time into its own column\n",
    "ny$month <- format(as.Date(ny$Start.Time), '%m')\n",
    "wa$month <- format(as.Date(wa$Start.Time), '%m')\n",
    "chg$month <- format(as.Date(chg$Start.Time), '%m')"
   ]
  },
  {
   "cell_type": "markdown",
   "metadata": {},
   "source": [
    "### New York City"
   ]
  },
  {
   "cell_type": "code",
   "execution_count": 7,
   "metadata": {},
   "outputs": [
    {
     "data": {
      "text/plain": [
       "ny$month: 01\n",
       "    Min.  1st Qu.   Median     Mean  3rd Qu.     Max. \n",
       "    61.0    329.0    522.0    744.3    868.0 445732.0 \n",
       "------------------------------------------------------------ \n",
       "ny$month: 02\n",
       "    Min.  1st Qu.   Median     Mean  3rd Qu.     Max. \n",
       "    61.0    344.0    552.0    787.3    939.0 332970.0 \n",
       "------------------------------------------------------------ \n",
       "ny$month: 03\n",
       "    Min.  1st Qu.   Median     Mean  3rd Qu.     Max. \n",
       "    61.0    336.0    538.0    755.8    887.0 259153.0 \n",
       "------------------------------------------------------------ \n",
       "ny$month: 04\n",
       "    Min.  1st Qu.   Median     Mean  3rd Qu.     Max. \n",
       "    61.0    379.8    646.0    955.4   1144.0 302506.0 \n",
       "------------------------------------------------------------ \n",
       "ny$month: 05\n",
       "   Min. 1st Qu.  Median    Mean 3rd Qu.    Max. \n",
       "     61     385     645     925    1117  499410 \n",
       "------------------------------------------------------------ \n",
       "ny$month: 06\n",
       "   Min. 1st Qu.  Median    Mean 3rd Qu.    Max. \n",
       "     61     392     660    1012    1141 2155775 "
      ]
     },
     "metadata": {},
     "output_type": "display_data"
    }
   ],
   "source": [
    "# summary data for New York City trip duration by month\n",
    "by(ny$Trip.Duration, ny$month, summary)"
   ]
  },
  {
   "cell_type": "code",
   "execution_count": 8,
   "metadata": {},
   "outputs": [
    {
     "data": {
      "image/png": "[encoded data removed]",
      "text/plain": [
       "plot without title"
      ]
     },
     "metadata": {},
     "output_type": "display_data"
    }
   ],
   "source": [
    "qplot(x = month,\n",
    "      y = Trip.Duration,\n",
    "      data = ny,\n",
    "      geom = 'boxplot',\n",
    "      xlab = 'Month of the Year',\n",
    "      ylab = 'Duration of Bike Ride In Seconds',\n",
    "      fill=I(\"blue\"),\n",
    "      col=I(\"orange\")) +\n",
    "     coord_cartesian(ylim = c(0,2000)) +\n",
    "    ggtitle('Box Plot of Bike Ride Trip Durations by Month for New York City', 'Outlier Cap 2000 sec')"
   ]
  },
  {
   "cell_type": "code",
   "execution_count": 9,
   "metadata": {},
   "outputs": [
    {
     "data": {
      "image/png": "[encoded data removed]",
      "text/plain": [
       "plot without title"
      ]
     },
     "metadata": {},
     "output_type": "display_data"
    }
   ],
   "source": [
    "ggplot(data = ny, aes(x = month, y = Trip.Duration)) +\n",
    "    geom_bar(position = 'dodge', stat = 'summary', fun.y = 'mean', color = 'orange', fill = 'blue') +\n",
    "    xlab('Month of the Year') +\n",
    "    ylab('Average Duration of Bike Ride In Seconds') +\n",
    "    ggtitle('Average Duration of Bike Ride by Month for the City of New York', 'Value start 500 sec') +\n",
    "    coord_cartesian(ylim = c(500,1200))\n",
    "    "
   ]
  },
  {
   "cell_type": "markdown",
   "metadata": {},
   "source": [
    "### Chigago"
   ]
  },
  {
   "cell_type": "code",
   "execution_count": 10,
   "metadata": {},
   "outputs": [
    {
     "data": {
      "text/plain": [
       "chg$month: 01\n",
       "   Min. 1st Qu.  Median    Mean 3rd Qu.    Max. \n",
       "   60.0   312.0   497.0   679.8   804.0 85408.0 \n",
       "------------------------------------------------------------ \n",
       "chg$month: 02\n",
       "   Min. 1st Qu.  Median    Mean 3rd Qu.    Max. \n",
       "   60.0   345.0   577.0   826.5   976.0 85742.0 \n",
       "------------------------------------------------------------ \n",
       "chg$month: 03\n",
       "   Min. 1st Qu.  Median    Mean 3rd Qu.    Max. \n",
       "   60.0   327.0   527.0   707.6   863.0 78287.0 \n",
       "------------------------------------------------------------ \n",
       "chg$month: 04\n",
       "   Min. 1st Qu.  Median    Mean 3rd Qu.    Max. \n",
       "   60.0   400.0   697.0   981.4  1178.0 85987.0 \n",
       "------------------------------------------------------------ \n",
       "chg$month: 05\n",
       "   Min. 1st Qu.  Median    Mean 3rd Qu.    Max. \n",
       "   60.0   414.0   709.0   976.3  1183.0 82654.0 \n",
       "------------------------------------------------------------ \n",
       "chg$month: 06\n",
       "   Min. 1st Qu.  Median    Mean 3rd Qu.    Max. \n",
       "     60     454     772    1047    1251   86224 "
      ]
     },
     "metadata": {},
     "output_type": "display_data"
    }
   ],
   "source": [
    "# summary data for Chigago trip duration by month\n",
    "by(chg$Trip.Duration, chg$month, summary)\n",
    "    "
   ]
  },
  {
   "cell_type": "code",
   "execution_count": 11,
   "metadata": {},
   "outputs": [
    {
     "data": {
      "image/png": "[encoded data removed]",
      "text/plain": [
       "plot without title"
      ]
     },
     "metadata": {},
     "output_type": "display_data"
    }
   ],
   "source": [
    "qplot(x = month,\n",
    "      y = Trip.Duration,\n",
    "      data = chg,\n",
    "      geom = 'boxplot',\n",
    "      xlab = 'Month of the Year',\n",
    "      ylab = 'Duration of Bike Ride In Seconds',\n",
    "      fill=I(\"red\"),\n",
    "      col=I(\"blue\")) +\n",
    "     coord_cartesian(ylim = c(0,2000)) +\n",
    "    ggtitle('Box Plot of Bike Ride Trip Durations by Month for Chigago', 'Outlier Cap 2000 sec')"
   ]
  },
  {
   "cell_type": "code",
   "execution_count": 12,
   "metadata": {},
   "outputs": [
    {
     "data": {
      "image/png": "[encoded data removed]",
      "text/plain": [
       "plot without title"
      ]
     },
     "metadata": {},
     "output_type": "display_data"
    }
   ],
   "source": [
    "ggplot(data = chg, aes(x = month, y = Trip.Duration)) +\n",
    "    geom_bar(position = 'dodge', stat = 'summary', fun.y = 'mean', color = 'blue', fill = 'red') +\n",
    "    xlab('Month of the Year') +\n",
    "    ylab('Average Duration of Bike Ride In Seconds') +\n",
    "    ggtitle('Average Duration of Bike Ride by Month for Chigago', 'Value start 500 sec') +\n",
    "    coord_cartesian(ylim = c(500,1100))"
   ]
  },
  {
   "cell_type": "markdown",
   "metadata": {},
   "source": [
    "### Washington D.C."
   ]
  },
  {
   "cell_type": "code",
   "execution_count": 13,
   "metadata": {},
   "outputs": [
    {
     "data": {
      "text/plain": [
       "wa$month: 01\n",
       "    Min.  1st Qu.   Median     Mean  3rd Qu.     Max. \n",
       "   60.19   353.77   579.64   896.69   956.57 86036.27 \n",
       "------------------------------------------------------------ \n",
       "wa$month: 02\n",
       "    Min.  1st Qu.   Median     Mean  3rd Qu.     Max. \n",
       "   60.12   380.12   639.17  1051.16  1098.26 84499.79 \n",
       "------------------------------------------------------------ \n",
       "wa$month: 03\n",
       "    Min.  1st Qu.   Median     Mean  3rd Qu.     Max. \n",
       "   60.13   384.24   649.40  1062.88  1120.69 85980.18 \n",
       "------------------------------------------------------------ \n",
       "wa$month: 04\n",
       "    Min.  1st Qu.   Median     Mean  3rd Qu.     Max. \n",
       "    60.3    448.5    794.9   1421.0   1405.7 438855.4 \n",
       "------------------------------------------------------------ \n",
       "wa$month: 05\n",
       "    Min.  1st Qu.   Median     Mean  3rd Qu.     Max. \n",
       "    60.0    424.8    735.9   1309.0   1274.6 885567.6 \n",
       "------------------------------------------------------------ \n",
       "wa$month: 06\n",
       "     Min.   1st Qu.    Median      Mean   3rd Qu.      Max. \n",
       "     61.2     439.9     760.9    1370.5    1301.2 1235662.2 "
      ]
     },
     "metadata": {},
     "output_type": "display_data"
    }
   ],
   "source": [
    "# summary data for Washingtom DC trip duration by month\n",
    "by(wa$Trip.Duration, wa$month, summary)"
   ]
  },
  {
   "cell_type": "code",
   "execution_count": 14,
   "metadata": {},
   "outputs": [
    {
     "data": {
      "image/png": "[encoded data removed]",
      "text/plain": [
       "plot without title"
      ]
     },
     "metadata": {},
     "output_type": "display_data"
    }
   ],
   "source": [
    "qplot(x = month,\n",
    "      y = Trip.Duration,\n",
    "      data = wa,\n",
    "      geom = 'boxplot',\n",
    "      xlab = 'Month of the Year',\n",
    "      ylab = 'Duration of Bike Ride In Seconds',\n",
    "      fill=I(\"white\"),\n",
    "      col=I(\"red\")) +\n",
    "     coord_cartesian(ylim = c(0,3000)) +\n",
    "    ggtitle('Box Plot of Bike Ride Trip Durations by Month for Washingtom DC', 'Outlier Cap 3000 sec')"
   ]
  },
  {
   "cell_type": "code",
   "execution_count": 15,
   "metadata": {},
   "outputs": [
    {
     "data": {
      "image/png": "[encoded data removed]",
      "text/plain": [
       "plot without title"
      ]
     },
     "metadata": {},
     "output_type": "display_data"
    }
   ],
   "source": [
    "ggplot(data = wa, aes(x = month, y = Trip.Duration)) +\n",
    "    geom_bar(position = 'dodge', stat = 'summary', fun.y = 'mean', color = 'red', fill = 'white') +\n",
    "    xlab('Month of the Year') +\n",
    "    ylab('Average Duration of Bike Ride In Seconds') +\n",
    "    ggtitle('Average Duration of Bike Ride by Month for Washingtom DC', 'Value start 700 sec') +\n",
    "    coord_cartesian(ylim = c(700,1500))"
   ]
  },
  {
   "cell_type": "markdown",
   "metadata": {},
   "source": [
    "___\n",
    "**The summary data and graphs definatly show a growing pattern in trip duration as the months grow warmer. The trip duaration greatly leaps from March to April. June has the highest average duration for Chigago and New York city. Washinton DC is further south than Chigago and New York city, and is most pleasent weather to ride bikes may be in april before the summer heat sets in.**\n",
    "\n",
    "**I noticed similer trends among the cities. With New York city and Chigago, February created a peak in the winter months. Washington does not have the peek because march's averge is higher than February.**\n",
    "\n",
    "**After the great leap in April, all the cities have a slight drop for the month of May. I am not entirely sure why this is, but it could be because Mother's day is not exactly known for bike riding, and most people I know go camping aroung Memorial day, away from the city.**"
   ]
  },
  {
   "cell_type": "markdown",
   "metadata": {},
   "source": [
    "### Question 2\n",
    "\n",
    "\n",
    "**Why does February average duration jump compared to most of the winter months?.**"
   ]
  },
  {
   "cell_type": "code",
   "execution_count": 16,
   "metadata": {},
   "outputs": [],
   "source": [
    "# select February data and then compute day of month column from Start Time\n",
    "\n",
    "ny.feb <- subset(ny, (month == '02'), select = c(Start.Time, Trip.Duration))\n",
    "ny.feb$day = format(as.Date(ny.feb$Start.Time), '%d')\n",
    "\n",
    "chg.feb <- subset(chg, (month == '02'), select = c(Start.Time, Trip.Duration))\n",
    "chg.feb$day = format(as.Date(chg.feb$Start.Time), '%d')\n",
    "\n",
    "wa.feb <- subset(wa, (month == '02'), select = c(Start.Time, Trip.Duration))\n",
    "wa.feb$day = format(as.Date(wa.feb$Start.Time), '%d')"
   ]
  },
  {
   "cell_type": "markdown",
   "metadata": {},
   "source": [
    "### New York city"
   ]
  },
  {
   "cell_type": "code",
   "execution_count": 17,
   "metadata": {},
   "outputs": [
    {
     "data": {
      "text/plain": [
       "ny.feb$day: 01\n",
       "   Min. 1st Qu.  Median    Mean 3rd Qu.    Max. \n",
       "   61.0   334.0   509.0   692.1   831.8 64857.0 \n",
       "------------------------------------------------------------ \n",
       "ny.feb$day: 02\n",
       "   Min. 1st Qu.  Median    Mean 3rd Qu.    Max. \n",
       "     62     333     518     692     835   25623 \n",
       "------------------------------------------------------------ \n",
       "ny.feb$day: 03\n",
       "   Min. 1st Qu.  Median    Mean 3rd Qu.    Max. \n",
       "   64.0   331.2   518.0   669.1   834.2  9141.0 \n",
       "------------------------------------------------------------ \n",
       "ny.feb$day: 04\n",
       "   Min. 1st Qu.  Median    Mean 3rd Qu.    Max. \n",
       "   61.0   311.2   506.5   727.7   829.8 21880.0 \n",
       "------------------------------------------------------------ \n",
       "ny.feb$day: 05\n",
       "    Min.  1st Qu.   Median     Mean  3rd Qu.     Max. \n",
       "    64.0    311.0    506.0    937.3    848.2 245100.0 \n",
       "------------------------------------------------------------ \n",
       "ny.feb$day: 06\n",
       "   Min. 1st Qu.  Median    Mean 3rd Qu.    Max. \n",
       "   66.0   334.0   521.5   670.7   846.2  6772.0 \n",
       "------------------------------------------------------------ \n",
       "ny.feb$day: 07\n",
       "   Min. 1st Qu.  Median    Mean 3rd Qu.    Max. \n",
       "   72.0   313.0   499.0   720.3   805.8 51595.0 \n",
       "------------------------------------------------------------ \n",
       "ny.feb$day: 08\n",
       "   Min. 1st Qu.  Median    Mean 3rd Qu.    Max. \n",
       "   63.0   358.0   550.0   712.1   941.5  4027.0 \n",
       "------------------------------------------------------------ \n",
       "ny.feb$day: 10\n",
       "   Min. 1st Qu.  Median    Mean 3rd Qu.    Max. \n",
       "  125.0   464.2   703.0  1482.0  1133.8 55050.0 \n",
       "------------------------------------------------------------ \n",
       "ny.feb$day: 11\n",
       "   Min. 1st Qu.  Median    Mean 3rd Qu.    Max. \n",
       "   74.0   414.8   616.0   809.1  1045.8  3112.0 \n",
       "------------------------------------------------------------ \n",
       "ny.feb$day: 12\n",
       "   Min. 1st Qu.  Median    Mean 3rd Qu.    Max. \n",
       "   70.0   298.5   466.0   819.8   654.5 64569.0 \n",
       "------------------------------------------------------------ \n",
       "ny.feb$day: 13\n",
       "   Min. 1st Qu.  Median    Mean 3rd Qu.    Max. \n",
       "     68     306     474     590     731    2488 \n",
       "------------------------------------------------------------ \n",
       "ny.feb$day: 14\n",
       "   Min. 1st Qu.  Median    Mean 3rd Qu.    Max. \n",
       "   82.0   329.0   519.0   643.1   823.0  5689.0 \n",
       "------------------------------------------------------------ \n",
       "ny.feb$day: 15\n",
       "   Min. 1st Qu.  Median    Mean 3rd Qu.    Max. \n",
       "   75.0   343.0   520.0   706.2   848.2 45877.0 \n",
       "------------------------------------------------------------ \n",
       "ny.feb$day: 16\n",
       "   Min. 1st Qu.  Median    Mean 3rd Qu.    Max. \n",
       "   64.0   309.0   490.0   626.9   780.5 12669.0 \n",
       "------------------------------------------------------------ \n",
       "ny.feb$day: 17\n",
       "   Min. 1st Qu.  Median    Mean 3rd Qu.    Max. \n",
       "   62.0   344.0   526.5   725.1   835.0 44188.0 \n",
       "------------------------------------------------------------ \n",
       "ny.feb$day: 18\n",
       "   Min. 1st Qu.  Median    Mean 3rd Qu.    Max. \n",
       "     64     382     684    1071    1244   67486 \n",
       "------------------------------------------------------------ \n",
       "ny.feb$day: 19\n",
       "   Min. 1st Qu.  Median    Mean 3rd Qu.    Max. \n",
       "     77     473     877    1269    1463   93024 \n",
       "------------------------------------------------------------ \n",
       "ny.feb$day: 20\n",
       "   Min. 1st Qu.  Median    Mean 3rd Qu.    Max. \n",
       "     71     352     616     875    1103   59414 \n",
       "------------------------------------------------------------ \n",
       "ny.feb$day: 21\n",
       "   Min. 1st Qu.  Median    Mean 3rd Qu.    Max. \n",
       "   62.0   318.0   528.0   660.1   862.0  4445.0 \n",
       "------------------------------------------------------------ \n",
       "ny.feb$day: 22\n",
       "   Min. 1st Qu.  Median    Mean 3rd Qu.    Max. \n",
       "   68.0   341.0   536.0   715.5   892.0  8963.0 \n",
       "------------------------------------------------------------ \n",
       "ny.feb$day: 23\n",
       "    Min.  1st Qu.   Median     Mean  3rd Qu.     Max. \n",
       "    66.0    360.0    590.5    952.9    999.8 332970.0 \n",
       "------------------------------------------------------------ \n",
       "ny.feb$day: 24\n",
       "   Min. 1st Qu.  Median    Mean 3rd Qu.    Max. \n",
       "   65.0   372.8   614.5   815.8  1066.8  8413.0 \n",
       "------------------------------------------------------------ \n",
       "ny.feb$day: 25\n",
       "   Min. 1st Qu.  Median    Mean 3rd Qu.    Max. \n",
       "   63.0   389.0   650.0   933.3  1185.0 17020.0 \n",
       "------------------------------------------------------------ \n",
       "ny.feb$day: 26\n",
       "   Min. 1st Qu.  Median    Mean 3rd Qu.    Max. \n",
       "   72.0   339.0   549.0   853.8   999.0 89568.0 \n",
       "------------------------------------------------------------ \n",
       "ny.feb$day: 27\n",
       "   Min. 1st Qu.  Median    Mean 3rd Qu.    Max. \n",
       "   69.0   343.0   533.5   707.7   864.0 26991.0 \n",
       "------------------------------------------------------------ \n",
       "ny.feb$day: 28\n",
       "   Min. 1st Qu.  Median    Mean 3rd Qu.    Max. \n",
       "   63.0   349.0   562.0   744.7   919.5 48821.0 "
      ]
     },
     "metadata": {},
     "output_type": "display_data"
    }
   ],
   "source": [
    "# summary stats for trip duration New York city\n",
    "by(ny.feb$Trip.Duration, ny.feb$day, summary)"
   ]
  },
  {
   "cell_type": "code",
   "execution_count": 18,
   "metadata": {},
   "outputs": [
    {
     "data": {
      "image/png": "[encoded data removed]",
      "text/plain": [
       "plot without title"
      ]
     },
     "metadata": {},
     "output_type": "display_data"
    }
   ],
   "source": [
    "ggplot(ny.feb, aes(x = day, y = Trip.Duration, group = 1)) +\n",
    "    #geom_point() +\n",
    "    geom_line(stat = 'summary', fun.y = quantile, fun.args = list(probs = .1), linetype = 2, color = 'Orange') +\n",
    "    geom_line(stat = 'summary', fun.y = quantile, fun.args = list(probs = .5), color = 'blue') +\n",
    "    geom_line(stat = 'summary', fun.y = quantile, fun.args = list(probs = .9), linetype = 2, color = 'Orange') +\n",
    "    xlab('Day of the Month') +\n",
    "    ylab('Trip Duration in Seconds') +\n",
    "    ggtitle('Trend of trip duration for New York city in February', '10, 50, and 90 percentiles')"
   ]
  },
  {
   "cell_type": "markdown",
   "metadata": {},
   "source": [
    "### Chicago"
   ]
  },
  {
   "cell_type": "code",
   "execution_count": 19,
   "metadata": {},
   "outputs": [
    {
     "data": {
      "text/plain": [
       "chg.feb$day: 01\n",
       "   Min. 1st Qu.  Median    Mean 3rd Qu.    Max. \n",
       "   70.0   306.2   478.5   643.9   757.2 44270.0 \n",
       "------------------------------------------------------------ \n",
       "chg.feb$day: 02\n",
       "   Min. 1st Qu.  Median    Mean 3rd Qu.    Max. \n",
       "  103.0   292.0   451.0   596.4   701.0 32881.0 \n",
       "------------------------------------------------------------ \n",
       "chg.feb$day: 03\n",
       "   Min. 1st Qu.  Median    Mean 3rd Qu.    Max. \n",
       "   60.0   285.0   441.5   572.5   679.2 22808.0 \n",
       "------------------------------------------------------------ \n",
       "chg.feb$day: 04\n",
       "   Min. 1st Qu.  Median    Mean 3rd Qu.    Max. \n",
       "   92.0   303.5   473.0   769.3   741.0 61058.0 \n",
       "------------------------------------------------------------ \n",
       "chg.feb$day: 05\n",
       "   Min. 1st Qu.  Median    Mean 3rd Qu.    Max. \n",
       "   68.0   318.8   541.0   734.8   912.2 17146.0 \n",
       "------------------------------------------------------------ \n",
       "chg.feb$day: 06\n",
       "   Min. 1st Qu.  Median    Mean 3rd Qu.    Max. \n",
       "   66.0   319.2   511.0   754.8   804.8 73536.0 \n",
       "------------------------------------------------------------ \n",
       "chg.feb$day: 07\n",
       "   Min. 1st Qu.  Median    Mean 3rd Qu.    Max. \n",
       "   97.0   303.0   479.0   646.0   747.5 33430.0 \n",
       "------------------------------------------------------------ \n",
       "chg.feb$day: 08\n",
       "   Min. 1st Qu.  Median    Mean 3rd Qu.    Max. \n",
       "   60.0   296.5   456.0   631.1   743.0 65678.0 \n",
       "------------------------------------------------------------ \n",
       "chg.feb$day: 09\n",
       "   Min. 1st Qu.  Median    Mean 3rd Qu.    Max. \n",
       "   61.0   283.5   440.0   562.1   701.5  6532.0 \n",
       "------------------------------------------------------------ \n",
       "chg.feb$day: 10\n",
       "   Min. 1st Qu.  Median    Mean 3rd Qu.    Max. \n",
       "   65.0   294.0   475.0   564.7   728.0  4963.0 \n",
       "------------------------------------------------------------ \n",
       "chg.feb$day: 11\n",
       "   Min. 1st Qu.  Median    Mean 3rd Qu.    Max. \n",
       "   69.0   345.8   591.0   883.9   993.8 76838.0 \n",
       "------------------------------------------------------------ \n",
       "chg.feb$day: 12\n",
       "   Min. 1st Qu.  Median    Mean 3rd Qu.    Max. \n",
       "   77.0   337.2   627.5   842.0  1056.0 12768.0 \n",
       "------------------------------------------------------------ \n",
       "chg.feb$day: 13\n",
       "   Min. 1st Qu.  Median    Mean 3rd Qu.    Max. \n",
       "   86.0   307.5   503.0   636.2   801.5  9457.0 \n",
       "------------------------------------------------------------ \n",
       "chg.feb$day: 14\n",
       "   Min. 1st Qu.  Median    Mean 3rd Qu.    Max. \n",
       "   81.0   318.5   518.0   644.5   846.5  4230.0 \n",
       "------------------------------------------------------------ \n",
       "chg.feb$day: 15\n",
       "   Min. 1st Qu.  Median    Mean 3rd Qu.    Max. \n",
       "   72.0   307.0   461.0   589.1   739.0  8398.0 \n",
       "------------------------------------------------------------ \n",
       "chg.feb$day: 16\n",
       "   Min. 1st Qu.  Median    Mean 3rd Qu.    Max. \n",
       "   68.0   315.0   475.0   645.7   749.0 38132.0 \n",
       "------------------------------------------------------------ \n",
       "chg.feb$day: 17\n",
       "   Min. 1st Qu.  Median    Mean 3rd Qu.    Max. \n",
       "   63.0   371.2   605.0   788.7  1006.2 31361.0 \n",
       "------------------------------------------------------------ \n",
       "chg.feb$day: 18\n",
       "   Min. 1st Qu.  Median    Mean 3rd Qu.    Max. \n",
       "     62     600    1037    1377    1582   78504 \n",
       "------------------------------------------------------------ \n",
       "chg.feb$day: 19\n",
       "   Min. 1st Qu.  Median    Mean 3rd Qu.    Max. \n",
       "   64.0   607.5  1089.0  1423.7  1656.5 85742.0 \n",
       "------------------------------------------------------------ \n",
       "chg.feb$day: 20\n",
       "   Min. 1st Qu.  Median    Mean 3rd Qu.    Max. \n",
       "   80.0   401.2   710.5  1003.0  1169.8 44377.0 \n",
       "------------------------------------------------------------ \n",
       "chg.feb$day: 21\n",
       "   Min. 1st Qu.  Median    Mean 3rd Qu.    Max. \n",
       "   72.0   366.0   601.0   751.7   989.0  4947.0 \n",
       "------------------------------------------------------------ \n",
       "chg.feb$day: 22\n",
       "   Min. 1st Qu.  Median    Mean 3rd Qu.    Max. \n",
       "   62.0   365.2   635.0   866.7  1035.8 21601.0 \n",
       "------------------------------------------------------------ \n",
       "chg.feb$day: 23\n",
       "   Min. 1st Qu.  Median    Mean 3rd Qu.    Max. \n",
       "   66.0   339.5   545.0   680.5   855.5 43343.0 \n",
       "------------------------------------------------------------ \n",
       "chg.feb$day: 24\n",
       "   Min. 1st Qu.  Median    Mean 3rd Qu.    Max. \n",
       "   85.0   310.0   503.0   625.5   807.0  5965.0 \n",
       "------------------------------------------------------------ \n",
       "chg.feb$day: 25\n",
       "   Min. 1st Qu.  Median    Mean 3rd Qu.    Max. \n",
       "   71.0   263.0   428.0   548.1   716.0  3737.0 \n",
       "------------------------------------------------------------ \n",
       "chg.feb$day: 26\n",
       "   Min. 1st Qu.  Median    Mean 3rd Qu.    Max. \n",
       "   72.0   335.0   590.5  1032.3  1018.0 77885.0 \n",
       "------------------------------------------------------------ \n",
       "chg.feb$day: 27\n",
       "   Min. 1st Qu.  Median    Mean 3rd Qu.    Max. \n",
       "   71.0   320.0   525.0   720.5   859.0 57030.0 \n",
       "------------------------------------------------------------ \n",
       "chg.feb$day: 28\n",
       "   Min. 1st Qu.  Median    Mean 3rd Qu.    Max. \n",
       "   78.0   346.0   525.0   716.9   838.0 61772.0 "
      ]
     },
     "metadata": {},
     "output_type": "display_data"
    }
   ],
   "source": [
    "# summary stats for trip duration Chicago\n",
    "by(chg.feb$Trip.Duration, chg.feb$day, summary)"
   ]
  },
  {
   "cell_type": "code",
   "execution_count": 20,
   "metadata": {},
   "outputs": [
    {
     "data": {
      "image/png": "[encoded data removed]",
      "text/plain": [
       "plot without title"
      ]
     },
     "metadata": {},
     "output_type": "display_data"
    }
   ],
   "source": [
    "ggplot(chg.feb, aes(x = day, y = Trip.Duration, group = 1)) +\n",
    "    #geom_point() +\n",
    "    geom_line(stat = 'summary', fun.y = quantile, fun.args = list(probs = .1), linetype = 2, color = 'blue') +\n",
    "    geom_line(stat = 'summary', fun.y = quantile, fun.args = list(probs = .5), color = 'red') +\n",
    "    geom_line(stat = 'summary', fun.y = quantile, fun.args = list(probs = .9), linetype = 2, color = 'blue') +\n",
    "    xlab('Day of the Month') +\n",
    "    ylab('Trip Duration in Seconds') +\n",
    "    ggtitle('Trend of trip duration for Chicago in February', '10, 50, and 90 percentiles')"
   ]
  },
  {
   "cell_type": "code",
   "execution_count": 21,
   "metadata": {},
   "outputs": [
    {
     "data": {
      "text/plain": [
       "wa.feb$day: 01\n",
       "   Min. 1st Qu.  Median    Mean 3rd Qu.    Max. \n",
       "  68.07  328.50  527.06  660.33  827.12 9670.54 \n",
       "------------------------------------------------------------ \n",
       "wa.feb$day: 02\n",
       "    Min.  1st Qu.   Median     Mean  3rd Qu.     Max. \n",
       "   72.93   345.48   535.97   700.87   862.97 15783.44 \n",
       "------------------------------------------------------------ \n",
       "wa.feb$day: 03\n",
       "    Min.  1st Qu.   Median     Mean  3rd Qu.     Max. \n",
       "   64.82   343.10   542.56   673.25   836.51 10685.41 \n",
       "------------------------------------------------------------ \n",
       "wa.feb$day: 04\n",
       "    Min.  1st Qu.   Median     Mean  3rd Qu.     Max. \n",
       "   60.61   359.94   591.93  1000.41   977.36 65619.71 \n",
       "------------------------------------------------------------ \n",
       "wa.feb$day: 05\n",
       "    Min.  1st Qu.   Median     Mean  3rd Qu.     Max. \n",
       "   70.46   332.32   555.33   892.28   979.64 27171.96 \n",
       "------------------------------------------------------------ \n",
       "wa.feb$day: 06\n",
       "    Min.  1st Qu.   Median     Mean  3rd Qu.     Max. \n",
       "   63.94   371.87   604.17   847.45   989.13 30678.96 \n",
       "------------------------------------------------------------ \n",
       "wa.feb$day: 07\n",
       "    Min.  1st Qu.   Median     Mean  3rd Qu.     Max. \n",
       "   69.21   382.90   617.25   940.23   965.62 84070.94 \n",
       "------------------------------------------------------------ \n",
       "wa.feb$day: 08\n",
       "    Min.  1st Qu.   Median     Mean  3rd Qu.     Max. \n",
       "   67.54   373.90   620.95   890.23  1013.73 79483.62 \n",
       "------------------------------------------------------------ \n",
       "wa.feb$day: 09\n",
       "    Min.  1st Qu.   Median     Mean  3rd Qu.     Max. \n",
       "   61.18   335.17   545.35   713.07   822.18 60451.25 \n",
       "------------------------------------------------------------ \n",
       "wa.feb$day: 10\n",
       "    Min.  1st Qu.   Median     Mean  3rd Qu.     Max. \n",
       "   86.85   302.66   486.51   673.68   777.46 72661.84 \n",
       "------------------------------------------------------------ \n",
       "wa.feb$day: 11\n",
       "    Min.  1st Qu.   Median     Mean  3rd Qu.     Max. \n",
       "   72.29   418.25   731.24  1242.50  1265.96 81674.34 \n",
       "------------------------------------------------------------ \n",
       "wa.feb$day: 12\n",
       "    Min.  1st Qu.   Median     Mean  3rd Qu.     Max. \n",
       "   61.02   376.72   600.72  1021.27  1121.31 20217.37 \n",
       "------------------------------------------------------------ \n",
       "wa.feb$day: 13\n",
       "   Min. 1st Qu.  Median    Mean 3rd Qu.    Max. \n",
       "  62.62  327.45  502.31  671.82  852.61 7134.60 \n",
       "------------------------------------------------------------ \n",
       "wa.feb$day: 14\n",
       "    Min.  1st Qu.   Median     Mean  3rd Qu.     Max. \n",
       "   66.81   354.28   554.94   819.14   881.46 77023.96 \n",
       "------------------------------------------------------------ \n",
       "wa.feb$day: 15\n",
       "    Min.  1st Qu.   Median     Mean  3rd Qu.     Max. \n",
       "   66.67   334.52   525.81   844.21   857.70 84499.79 \n",
       "------------------------------------------------------------ \n",
       "wa.feb$day: 16\n",
       "   Min. 1st Qu.  Median    Mean 3rd Qu.    Max. \n",
       "  61.83  324.40  524.55  642.61  793.55 5536.97 \n",
       "------------------------------------------------------------ \n",
       "wa.feb$day: 17\n",
       "   Min. 1st Qu.  Median    Mean 3rd Qu.    Max. \n",
       "   76.3   335.7   536.0   791.3   833.7 76105.5 \n",
       "------------------------------------------------------------ \n",
       "wa.feb$day: 18\n",
       "    Min.  1st Qu.   Median     Mean  3rd Qu.     Max. \n",
       "   62.14   565.69  1090.67  1875.60  1943.21 74680.19 \n",
       "------------------------------------------------------------ \n",
       "wa.feb$day: 19\n",
       "    Min.  1st Qu.   Median     Mean  3rd Qu.     Max. \n",
       "   72.43   617.26  1253.37  2030.48  2257.86 43159.07 \n",
       "------------------------------------------------------------ \n",
       "wa.feb$day: 20\n",
       "    Min.  1st Qu.   Median     Mean  3rd Qu.     Max. \n",
       "   60.74   489.44   904.99  1545.04  1608.25 68310.56 \n",
       "------------------------------------------------------------ \n",
       "wa.feb$day: 21\n",
       "    Min.  1st Qu.   Median     Mean  3rd Qu.     Max. \n",
       "   92.17   382.41   636.31   964.73  1003.42 46023.36 \n",
       "------------------------------------------------------------ \n",
       "wa.feb$day: 22\n",
       "    Min.  1st Qu.   Median     Mean  3rd Qu.     Max. \n",
       "   69.02   377.98   612.88   872.90   995.49 22017.81 \n",
       "------------------------------------------------------------ \n",
       "wa.feb$day: 23\n",
       "    Min.  1st Qu.   Median     Mean  3rd Qu.     Max. \n",
       "   63.58   382.11   676.06   987.54  1095.43 58517.08 \n",
       "------------------------------------------------------------ \n",
       "wa.feb$day: 24\n",
       "    Min.  1st Qu.   Median     Mean  3rd Qu.     Max. \n",
       "   61.63   440.81   767.42  1286.19  1310.48 76857.76 \n",
       "------------------------------------------------------------ \n",
       "wa.feb$day: 25\n",
       "    Min.  1st Qu.   Median     Mean  3rd Qu.     Max. \n",
       "   68.84   439.84   781.99  1343.14  1349.54 39860.49 \n",
       "------------------------------------------------------------ \n",
       "wa.feb$day: 26\n",
       "    Min.  1st Qu.   Median     Mean  3rd Qu.     Max. \n",
       "   79.42   412.40   677.99  1318.62  1230.34 81187.10 \n",
       "------------------------------------------------------------ \n",
       "wa.feb$day: 27\n",
       "    Min.  1st Qu.   Median     Mean  3rd Qu.     Max. \n",
       "   64.48   364.98   615.34   821.84  1017.57 26792.19 \n",
       "------------------------------------------------------------ \n",
       "wa.feb$day: 28\n",
       "    Min.  1st Qu.   Median     Mean  3rd Qu.     Max. \n",
       "   60.12   348.92   583.44   832.72   981.49 19167.84 "
      ]
     },
     "metadata": {},
     "output_type": "display_data"
    }
   ],
   "source": [
    "# summary stats for trip duration Chicago\n",
    "by(wa.feb$Trip.Duration, wa.feb$day, summary)"
   ]
  },
  {
   "cell_type": "code",
   "execution_count": 22,
   "metadata": {},
   "outputs": [
    {
     "data": {
      "image/png": "[encoded data removed]",
      "text/plain": [
       "plot without title"
      ]
     },
     "metadata": {},
     "output_type": "display_data"
    }
   ],
   "source": [
    "ggplot(wa.feb, aes(x = day, y = Trip.Duration, group = 1)) +\n",
    "    #geom_point() +\n",
    "    geom_line(stat = 'summary', fun.y = quantile, fun.args = list(probs = .1), linetype = 2) +\n",
    "    geom_line(stat = 'summary', fun.y = quantile, fun.args = list(probs = .5), color = 'red') +\n",
    "    geom_line(stat = 'summary', fun.y = quantile, fun.args = list(probs = .9), linetype = 2) +\n",
    "    xlab('Day of the Month') +\n",
    "    ylab('Trip Duration in Seconds') +\n",
    "    ggtitle('Trend of trip duration for Washington DC in February', '10, 50, and 90 percentiles')"
   ]
  },
  {
   "cell_type": "markdown",
   "metadata": {},
   "source": [
    "---\n",
    "**I initialy thought that St. Valentine's Day was the factor that was giving February the peak in the average duration in the winter months. But, as seen from the summaries and the plots, that is not the case. Here is seems to be President's day weekend that is creating the peak.**"
   ]
  },
  {
   "cell_type": "markdown",
   "metadata": {},
   "source": [
    "### Question 3\n",
    "\n",
    "\n",
    "**What is the *User Type* count?**"
   ]
  },
  {
   "cell_type": "markdown",
   "metadata": {},
   "source": [
    "### New York"
   ]
  },
  {
   "cell_type": "code",
   "execution_count": 23,
   "metadata": {},
   "outputs": [
    {
     "data": {
      "text/html": [
       "<dl class=dl-horizontal>\n",
       "\t<dt>1</dt>\n",
       "\t\t<dd>692</dd>\n",
       "\t<dt>Customer</dt>\n",
       "\t\t<dd>30159</dd>\n",
       "\t<dt>Subscriber</dt>\n",
       "\t\t<dd>269149</dd>\n",
       "</dl>\n"
      ],
      "text/latex": [
       "\\begin{description*}\n",
       "\\item[1] 692\n",
       "\\item[Customer] 30159\n",
       "\\item[Subscriber] 269149\n",
       "\\end{description*}\n"
      ],
      "text/markdown": [
       "1\n",
       ":   692Customer\n",
       ":   30159Subscriber\n",
       ":   269149\n",
       "\n"
      ],
      "text/plain": [
       "             Customer Subscriber \n",
       "       692      30159     269149 "
      ]
     },
     "metadata": {},
     "output_type": "display_data"
    }
   ],
   "source": [
    "# user type count New York city\n",
    "summary(ny$User.Type)"
   ]
  },
  {
   "cell_type": "code",
   "execution_count": 24,
   "metadata": {},
   "outputs": [
    {
     "data": {
      "image/png": "[encoded data removed]",
      "text/plain": [
       "plot without title"
      ]
     },
     "metadata": {},
     "output_type": "display_data"
    }
   ],
   "source": [
    "ggplot(ny, aes(User.Type)) +\n",
    "    geom_bar(color = 'orange', fill = 'blue') +\n",
    "    xlab('User Type') +\n",
    "    ylab('User Count') +\n",
    "    ggtitle('Count of Bike User Types', 'New York city')"
   ]
  },
  {
   "cell_type": "markdown",
   "metadata": {},
   "source": [
    "### Chicago"
   ]
  },
  {
   "cell_type": "code",
   "execution_count": 25,
   "metadata": {},
   "outputs": [
    {
     "data": {
      "text/html": [
       "<dl class=dl-horizontal>\n",
       "\t<dt>Customer</dt>\n",
       "\t\t<dd>61110</dd>\n",
       "\t<dt>Dependent</dt>\n",
       "\t\t<dd>1</dd>\n",
       "\t<dt>Subscriber</dt>\n",
       "\t\t<dd>238889</dd>\n",
       "</dl>\n"
      ],
      "text/latex": [
       "\\begin{description*}\n",
       "\\item[Customer] 61110\n",
       "\\item[Dependent] 1\n",
       "\\item[Subscriber] 238889\n",
       "\\end{description*}\n"
      ],
      "text/markdown": [
       "Customer\n",
       ":   61110Dependent\n",
       ":   1Subscriber\n",
       ":   238889\n",
       "\n"
      ],
      "text/plain": [
       "  Customer  Dependent Subscriber \n",
       "     61110          1     238889 "
      ]
     },
     "metadata": {},
     "output_type": "display_data"
    }
   ],
   "source": [
    "# user type count Chicago\n",
    "summary(chg$User.Type)"
   ]
  },
  {
   "cell_type": "code",
   "execution_count": 26,
   "metadata": {},
   "outputs": [
    {
     "data": {
      "image/png": "[encoded data removed]",
      "text/plain": [
       "plot without title"
      ]
     },
     "metadata": {},
     "output_type": "display_data"
    }
   ],
   "source": [
    "ggplot(chg, aes(User.Type)) +\n",
    "    geom_bar(color = 'blue', fill = 'red') +\n",
    "    xlab('User Type') +\n",
    "    ylab('User Count') +\n",
    "    ggtitle('Count of Bike User Types', 'Chicago')"
   ]
  },
  {
   "cell_type": "markdown",
   "metadata": {},
   "source": [
    "### Washington DC"
   ]
  },
  {
   "cell_type": "code",
   "execution_count": 27,
   "metadata": {},
   "outputs": [
    {
     "data": {
      "text/html": [
       "<dl class=dl-horizontal>\n",
       "\t<dt>Customer</dt>\n",
       "\t\t<dd>79214</dd>\n",
       "\t<dt>Subscriber</dt>\n",
       "\t\t<dd>220786</dd>\n",
       "</dl>\n"
      ],
      "text/latex": [
       "\\begin{description*}\n",
       "\\item[Customer] 79214\n",
       "\\item[Subscriber] 220786\n",
       "\\end{description*}\n"
      ],
      "text/markdown": [
       "Customer\n",
       ":   79214Subscriber\n",
       ":   220786\n",
       "\n"
      ],
      "text/plain": [
       "  Customer Subscriber \n",
       "     79214     220786 "
      ]
     },
     "metadata": {},
     "output_type": "display_data"
    }
   ],
   "source": [
    "# user type count Washington DC\n",
    "summary(wa$User.Type)"
   ]
  },
  {
   "cell_type": "code",
   "execution_count": 28,
   "metadata": {
    "scrolled": true
   },
   "outputs": [
    {
     "data": {
      "image/png": "[encoded data removed]",
      "text/plain": [
       "plot without title"
      ]
     },
     "metadata": {},
     "output_type": "display_data"
    }
   ],
   "source": [
    "ggplot(wa, aes(User.Type)) +\n",
    "    geom_bar(color = 'red', fill = 'white') +\n",
    "    xlab('User Type') +\n",
    "    ylab('User Count') +\n",
    "    ggtitle('Count of Bike User Types', 'Washington DC')"
   ]
  },
  {
   "cell_type": "markdown",
   "metadata": {},
   "source": [
    "___\n",
    "**The summary fuctions clearly answer the *User Type* count question.**\n",
    "> **New York**\n",
    ">>Customer:    30,159  users  \n",
    ">>Subscriber: 269,149 users \n",
    "\n",
    ">**Chicago**\n",
    ">>Customer:    61,110 users   \n",
    ">>Subscriber: 238,889 users \n",
    "\n",
    ">**Washington**\n",
    ">>Customer:    79,214 users  \n",
    ">>Subscriber: 220,786 users\n",
    "\n",
    "**The majority of users are subcribers. Of all the cities, from the graphs, Washington DC seems to have the highest proportion of general customers to subscribers.**"
   ]
  },
  {
   "cell_type": "code",
   "execution_count": null,
   "metadata": {},
   "outputs": [],
   "source": []
  }
 ],
 "metadata": {
  "kernelspec": {
   "display_name": "R",
   "language": "R",
   "name": "ir"
  },
  "language_info": {
   "codemirror_mode": "r",
   "file_extension": ".r",
   "mimetype": "text/x-r-source",
   "name": "R",
   "pygments_lexer": "r",
   "version": "3.6.1"
  }
 },
 "nbformat": 4,
 "nbformat_minor": 4
}
